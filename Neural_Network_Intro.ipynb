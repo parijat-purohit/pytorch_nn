{
  "nbformat": 4,
  "nbformat_minor": 0,
  "metadata": {
    "colab": {
      "provenance": [],
      "authorship_tag": "ABX9TyNnAuDxSZ3cFdkzQSWjubRq",
      "include_colab_link": true
    },
    "kernelspec": {
      "name": "python3",
      "display_name": "Python 3"
    },
    "language_info": {
      "name": "python"
    }
  },
  "cells": [
    {
      "cell_type": "markdown",
      "metadata": {
        "id": "view-in-github",
        "colab_type": "text"
      },
      "source": [
        "<a href=\"https://colab.research.google.com/github/parijat-purohit/pytorch_nn/blob/main/Neural_Network_Intro.ipynb\" target=\"_parent\"><img src=\"https://colab.research.google.com/assets/colab-badge.svg\" alt=\"Open In Colab\"/></a>"
      ]
    },
    {
      "cell_type": "code",
      "execution_count": null,
      "metadata": {
        "id": "4EBVrIyu0GFO"
      },
      "outputs": [],
      "source": [
        "# According to IBM website, \"A neural network is a machine learning program,\n",
        "# or model, that makes decisions in a manner similar to the human brain,\n",
        "# by using processes that mimic the way biological neurons work together\n",
        "# to identify phenomena, weigh options and arrive at conclusions.\"\n",
        "\n",
        "# Dataset Usage: https://archive.ics.uci.edu/dataset/53/iris\n",
        "\n",
        "import torch\n",
        "import torch.nn as nn\n",
        "import torch.nn.functional as F\n"
      ]
    },
    {
      "cell_type": "code",
      "source": [
        "# create a Model class that inherits nn.Module\n",
        "class Model(nn.Module):\n",
        "  # Input Layer(4 features of the flower) -->\n",
        "  # Hidden Layer1, H1(number of neurons) -->\n",
        "  # H2(n) -->\n",
        "  # Output Layer(3 classes of iris flowers)\n",
        "  def __init__(self, input=4, h1=5, h2=5, output=3):\n",
        "    super().__init__()\n",
        "    self.fc1 = nn.Linear(input, h1)\n",
        "    self.fc2 = nn.Linear(h1, h2)\n",
        "    self.out = nn.Linear(h2, output)\n",
        "\n",
        "  def forward(self, x):\n",
        "    x = F.relu(self.fc1(x))\n",
        "    x = F.relu(self.fc2(x))\n",
        "    x = self.out(x)\n",
        "\n",
        "    return x\n",
        "\n",
        "m = Model()\n",
        "m\n",
        "\n",
        "\n"
      ],
      "metadata": {
        "colab": {
          "base_uri": "https://localhost:8080/"
        },
        "id": "HsxbK0t20tEb",
        "outputId": "3a621dfe-6aaf-41ab-e915-37784208859f"
      },
      "execution_count": null,
      "outputs": [
        {
          "output_type": "execute_result",
          "data": {
            "text/plain": [
              "Model(\n",
              "  (fc1): Linear(in_features=4, out_features=5, bias=True)\n",
              "  (fc2): Linear(in_features=5, out_features=5, bias=True)\n",
              "  (out): Linear(in_features=5, out_features=3, bias=True)\n",
              ")"
            ]
          },
          "metadata": {},
          "execution_count": 4
        }
      ]
    }
  ]
}